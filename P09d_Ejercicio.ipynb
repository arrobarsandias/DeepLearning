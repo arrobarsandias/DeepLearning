{
  "nbformat": 4,
  "nbformat_minor": 0,
  "metadata": {
    "colab": {
      "provenance": [],
      "authorship_tag": "ABX9TyOD6eIMRjAzKl0zSktt9bug",
      "include_colab_link": true
    },
    "kernelspec": {
      "name": "python3",
      "display_name": "Python 3"
    },
    "language_info": {
      "name": "python"
    }
  },
  "cells": [
    {
      "cell_type": "markdown",
      "metadata": {
        "id": "view-in-github",
        "colab_type": "text"
      },
      "source": [
        "<a href=\"https://colab.research.google.com/github/mcstllns/DeepLearning/blob/main/P09d_Ejercicio.ipynb\" target=\"_parent\"><img src=\"https://colab.research.google.com/assets/colab-badge.svg\" alt=\"Open In Colab\"/></a>"
      ]
    },
    {
      "cell_type": "markdown",
      "source": [
        "# Ejercicio\n",
        "\n",
        "Crea una serie temporal con una regla y comprueba si una red RNN o LSTM pueden aprenderla"
      ],
      "metadata": {
        "id": "KbQMegZfUJ9W"
      }
    },
    {
      "cell_type": "code",
      "execution_count": null,
      "metadata": {
        "id": "ObOzL86tKvtG"
      },
      "outputs": [],
      "source": [
        "import numpy as np\n",
        "\n",
        "# random is a function, doing random sampling in numpy.\n",
        "X = np.random.randint(10, size=(100,3))\n",
        "\n",
        "# the array will be having 20 elements.\n",
        "print(X)"
      ]
    },
    {
      "cell_type": "code",
      "source": [
        "Y = np.where(X[:,0] < 5, 0, 1)\n",
        "print(Y)"
      ],
      "metadata": {
        "colab": {
          "base_uri": "https://localhost:8080/"
        },
        "id": "l0Ti1FhlLAJf",
        "outputId": "b602cac0-c366-4a2c-9641-e65d6a80a9ae"
      },
      "execution_count": null,
      "outputs": [
        {
          "output_type": "stream",
          "name": "stdout",
          "text": [
            "[1 1 1 0 1 1 1 0 0 0 1 1 0 0 0 0 0 0 0 0 0 0 0 1 1 1 1 0 1 1 0 1 0 1 0 0 1\n",
            " 1 0 1 1 1 1 1 1 0 0 0 1 1 0 1 1 1 0 0 1 0 1 0 0 1 1 1 1 1 1 1 0 1 0 1 1 1\n",
            " 1 0 0 0 1 0 1 1 1 0 0 0 0 1 0 0 1 0 1 1 1 0 0 0 0 1]\n"
          ]
        }
      ]
    },
    {
      "cell_type": "code",
      "source": [
        "# determinamos el numero de casos para train y test\n",
        "ratio = 0.8\n",
        "n = int(ratio*X.shape[0])\n",
        "\n",
        "# aleatorizamos los indices de las filas y elegimos los n primeros indices para train y los restantes para test\n",
        "idx = np.random.permutation(X.shape[0])\n",
        "training_idx, test_idx = idx[:n,], idx[n:]\n",
        "\n",
        "# creamos las matrices de train y test\n",
        "trainX = X[training_idx,:]\n",
        "trainY = Y[training_idx]\n",
        "\n",
        "testX = X[test_idx,:]\n",
        "testY = Y[test_idx]\n",
        "\n",
        "\n",
        "print(trainX, trainY)"
      ],
      "metadata": {
        "id": "nVOxjS4fOvM9"
      },
      "execution_count": null,
      "outputs": []
    }
  ]
}