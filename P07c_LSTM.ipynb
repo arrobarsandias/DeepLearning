{
  "nbformat": 4,
  "nbformat_minor": 0,
  "metadata": {
    "colab": {
      "provenance": [],
      "authorship_tag": "ABX9TyP7LRpL9d0ZsXuelgcyKkuE",
      "include_colab_link": true
    },
    "kernelspec": {
      "name": "python3",
      "display_name": "Python 3"
    },
    "language_info": {
      "name": "python"
    }
  },
  "cells": [
    {
      "cell_type": "markdown",
      "metadata": {
        "id": "view-in-github",
        "colab_type": "text"
      },
      "source": [
        "<a href=\"https://colab.research.google.com/github/mcstllns/DeepLearning/blob/main/P07c_LSTM.ipynb\" target=\"_parent\"><img src=\"https://colab.research.google.com/assets/colab-badge.svg\" alt=\"Open In Colab\"/></a>"
      ]
    },
    {
      "cell_type": "markdown",
      "source": [
        "# Ejemplo con una LSTM\n",
        "\n",
        "Construímos con Keras una red recurrente para predecir las manchas solares (sunspots), como parece que hay una temporalidad se utiliza una rede recurrente."
      ],
      "metadata": {
        "id": "yiHo0CUpzm_0"
      }
    },
    {
      "cell_type": "code",
      "execution_count": null,
      "metadata": {
        "id": "6LXMo-GTCXMt"
      },
      "outputs": [],
      "source": [
        "# Importamos las librerías necesarias\n",
        "\n",
        "from pandas import read_csv\n",
        "import numpy as np\n",
        "from keras.models import Sequential\n",
        "from keras.layers import Dense, LSTM\n",
        "from sklearn.preprocessing import MinMaxScaler\n",
        "from sklearn.metrics import mean_squared_error\n",
        "import math\n",
        "import matplotlib.pyplot as plt"
      ]
    },
    {
      "cell_type": "code",
      "source": [
        "# Importamos los datos desde un github\n",
        "\n",
        "url = 'https://raw.githubusercontent.com/jbrownlee/Datasets/master/monthly-sunspots.csv'\n",
        "df = read_csv(url, usecols=[1], engine='python')\n"
      ],
      "metadata": {
        "id": "_fjpdsz_1KVF"
      },
      "execution_count": null,
      "outputs": []
    },
    {
      "cell_type": "code",
      "source": [
        "# Se convierten en flotantes\n",
        "data = np.array(df.values.astype('float32'))\n",
        "\n",
        "# Normalizamos (0,1)\n",
        "# scaler = MinMaxScaler(feature_range=(0, 1))\n",
        "data = MinMaxScaler(feature_range=(0, 1)).fit_transform(data).flatten()\n",
        "\n",
        "# Se crea train y test\n",
        "split = int(len(data)*0.8)\n",
        "train_data = data[range(split)]\n",
        "test_data = data[split:]\n"
      ],
      "metadata": {
        "id": "CIT3g9-22nO1"
      },
      "execution_count": null,
      "outputs": []
    },
    {
      "cell_type": "code",
      "source": [
        "\n",
        "# Hay que generar la estructura de casos x tiemstapms x vars\n",
        "# En este caso solo tenemos una var, la secuencia de manchas solares\n",
        "# Esta es la parte mas compleja, se define una funcion que va a partir toda la secuencia en cadenas de t timestamps\n",
        "# pe: 1, 2, 3, 4, 5, 6, 7 y t = 2\n",
        "\n",
        "#     X: 1, 2  Y: 3\n",
        "#        3, 4     5\n",
        "#        5, 6     7\n",
        "\n",
        "def get_XY(dat, time_steps):\n",
        "    # Indices of target array\n",
        "    Y_ind = np.arange(time_steps, len(dat), time_steps)\n",
        "    Y = dat[Y_ind]\n",
        "    # Prepare X\n",
        "    rows_x = len(Y)\n",
        "    X = dat[range(time_steps*rows_x)]\n",
        "    X = np.reshape(X, (rows_x, time_steps, 1))\n",
        "    return X, Y\n",
        "\n",
        "time_stamps = 12\n",
        "\n",
        "trainX, trainY = get_XY(train_data, time_stamps)\n",
        "testX, testY = get_XY(test_data, time_stamps)\n"
      ],
      "metadata": {
        "id": "T42eCuv63tnd"
      },
      "execution_count": null,
      "outputs": []
    },
    {
      "cell_type": "code",
      "source": [
        "print(trainX.shape) # vemos la estructura tridimensional de X\n",
        "print(trainX)\n",
        "print(trainY.shape) # Y solo tiene una estructura unidimensional\n",
        "print(trainY)"
      ],
      "metadata": {
        "id": "8T8EJjYH5BRn"
      },
      "execution_count": null,
      "outputs": []
    },
    {
      "cell_type": "code",
      "source": [
        "# Definimos la red\n",
        "\n",
        "hidden_units = 3 # neuronas (o unidades) del vector de memoria C\n",
        "dense_units =  1 # neuronas de capa de prediccion\n",
        "input_shape = (12,1) # timestamps x vars\n",
        "\n",
        "# Se monta una red compuesta por una LSTM que se despliega 12 veces y con la activación final\n",
        "# se predice el siguiente valor de sunspot\n",
        "\n",
        "model = Sequential()\n",
        "model.add(LSTM(hidden_units, input_shape=input_shape))\n",
        "model.add(Dense(units=dense_units, activation=\"linear\"))\n",
        "model.compile(loss='mse', optimizer='adam')\n",
        "\n",
        "model.summary()"
      ],
      "metadata": {
        "id": "C8OzKSoy6nCm"
      },
      "execution_count": null,
      "outputs": []
    },
    {
      "cell_type": "code",
      "source": [
        "model.fit(trainX, trainY, epochs=30, batch_size=1, verbose=2)"
      ],
      "metadata": {
        "id": "os5HVKku6nNP"
      },
      "execution_count": null,
      "outputs": []
    },
    {
      "cell_type": "code",
      "source": [
        "print(model.evaluate(trainX, trainY))\n",
        "print(model.evaluate(testX, testY))"
      ],
      "metadata": {
        "id": "4GhCB0pC_opc"
      },
      "execution_count": null,
      "outputs": []
    },
    {
      "cell_type": "code",
      "source": [
        "# make predictions\n",
        "train_predict = model.predict(trainX)\n",
        "test_predict = model.predict(testX)\n",
        "\n",
        "# Un grafico para el pronostico\n",
        "\n",
        "def plot_result(trainY, testY, train_predict, test_predict):\n",
        "    actual = np.append(trainY, testY)\n",
        "    predictions = np.append(train_predict, test_predict)\n",
        "    rows = len(actual)\n",
        "    plt.figure(figsize=(15, 6), dpi=80)\n",
        "    plt.plot(range(rows), actual)\n",
        "    plt.plot(range(rows), predictions)\n",
        "    plt.axvline(x=len(trainY), color='r')\n",
        "    plt.legend(['Actual', 'Predictions'])\n",
        "    plt.xlabel('Observation number after given time steps')\n",
        "    plt.ylabel('Sunspots scaled')\n",
        "    plt.title('Actual and Predicted Values. The Red Line Separates The Training And Test Examples')\n",
        "\n",
        "plot_result(trainY, testY, train_predict, test_predict)"
      ],
      "metadata": {
        "id": "vPtC5AQR9DU0"
      },
      "execution_count": null,
      "outputs": []
    }
  ]
}