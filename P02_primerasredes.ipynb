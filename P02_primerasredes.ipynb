{
  "nbformat": 4,
  "nbformat_minor": 0,
  "metadata": {
    "colab": {
      "name": "P02.primerasredes.ipynb",
      "provenance": [],
      "collapsed_sections": [],
      "authorship_tag": "ABX9TyMC1lNo3QBBcHCnEFckruvJ",
      "include_colab_link": true
    },
    "kernelspec": {
      "name": "python3",
      "display_name": "Python 3"
    },
    "language_info": {
      "name": "python"
    }
  },
  "cells": [
    {
      "cell_type": "markdown",
      "metadata": {
        "id": "view-in-github",
        "colab_type": "text"
      },
      "source": [
        "<a href=\"https://colab.research.google.com/github/mcstllns/DeepLearning/blob/main/P02_primerasredes.ipynb\" target=\"_parent\"><img src=\"https://colab.research.google.com/assets/colab-badge.svg\" alt=\"Open In Colab\"/></a>"
      ]
    },
    {
      "cell_type": "markdown",
      "metadata": {
        "id": "ooxln0_G64KC"
      },
      "source": [
        "# Bienvenido a colab\n",
        "\n",
        "En este cuaderno vamos a construir nuestras primeras redes neuronales, vete fijándote en el código y en las explicaciones que se adjuntan porque luego tendrás que hacer un ejercicio en moodle.\n",
        "\n",
        "Vamos a empezar por las redes más asequibles, los __perceptrones multicapa__, exactamente iguales que los que hemos estado utilizando en [playground](https://playground.tensorflow.org/).\n",
        "\n",
        "La tarea es identica a la realizada en playground pero ahora en vez de ser un sandbox completamente opaco vamos a programar nuestras redes.\n",
        "\n",
        "__No te frustres__, a veces escribir código es frustrante porque te da la sensación de que unas veces funciona y otras no. Los ordenadores son deterministas, no tienen opiniones ni les caes mal; si antes te ha funcionado y ahora no es porque hay algo diferente, sigue intentándolo y si ves que no lo consigues consulta con un compañero o con el profesor.\n",
        "\n",
        "En general, los ejercicios siempre están basados en cosas que han sido explicadas, cuando haya un ejercicio que no te salga, relee los materiales y fíjate despacio en el código previo, es posible que la solución la tengas a la vista. Si aún así no encuentras la solución pregunta a tus compañeros y __no dudes en contactar conmigo__."
      ]
    },
    {
      "cell_type": "markdown",
      "metadata": {
        "id": "r6atnKwo86e8"
      },
      "source": [
        "Lo primero que vamos a hacer es cargar un montón de paquetes y librerías de python que vamos a necesitar para que se calculen las redes. No te preocupes por esta parte, no es necesario entender qué o cómo lo hace, simplemente ejecútala. Lo que hace este código es:\n",
        "1. Carga los paquetes: numpy, tensorflow2, panda, matplolib, keras y sklearn. Son paquetes básicos para el trabajo con datos y los paquetes relacionados con Deep Learning.\n",
        "1. Construímos una función llamada _miplot_ que nos va a servir para visualizar los datos\n",
        "\n",
        "Para ejecutar un código puedes pinchar en la flecha de la celda o usar _Ctr+Enter_ en el teclado.\n"
      ]
    },
    {
      "cell_type": "code",
      "metadata": {
        "id": "_6xyyybh8Q55"
      },
      "source": [
        "# importamos las librerias que se van a necesitar\n",
        "\n",
        "import tensorflow as tf\n",
        "from tensorflow import keras\n",
        "from tensorflow.keras import Sequential\n",
        "from tensorflow.keras.layers import Dense\n",
        "\n",
        "import numpy as np\n",
        "from sklearn.datasets import make_blobs\n",
        "from sklearn.datasets import make_circles\n",
        "from sklearn.datasets import make_moons\n",
        "\n",
        "from matplotlib import pyplot\n",
        "from pandas import DataFrame\n",
        "\n",
        "print(tf.__version__)\n",
        "\n",
        "# ----------------------------------------------------------------\n",
        "# definimos una funcion para dibujar los datos\n",
        "def miplot(X, y):\n",
        "    df = DataFrame(dict(x1=X[:, 0], x2=X[:, 1], label=y))\n",
        "    colors = {0: 'red', 1: 'blue', 2: 'green', 3: 'black'}\n",
        "    fig, ax = pyplot.subplots()\n",
        "    grouped = df.groupby('label')\n",
        "    for key, group in grouped:\n",
        "        group.plot(ax=ax, kind='scatter', x='x1', y='x2', label=key, color=colors[key])\n",
        "    pyplot.show()"
      ],
      "execution_count": null,
      "outputs": []
    },
    {
      "cell_type": "markdown",
      "metadata": {
        "id": "bb64MMAt-CzR"
      },
      "source": [
        "Una vez hecho lo anterior podemos comprobar si funciona bien, vamos a generar unos datos similares a los de playground.\n",
        "\n",
        "La función __make_blobs__ crea \"pelotas\" (clusters de datos) generadas aleatoriamente, vamos a crear dos pelotas y visualizarlas.\n",
        "\n",
        "En __X__ se almacenan las coordenadas de x1 y x2, y en __y__ se almacena si una determinada fila pertenece al grupo 0 (rojo) o al 1 (azul). \n",
        "\n",
        "Por así decirlo __X__ es una matriz de 100x2 que contiene las variables independientes o predictoras e __y__ es un vector (100x1) que contiene la variable dependiente o la categoría que hay que pronosticar."
      ]
    },
    {
      "cell_type": "code",
      "metadata": {
        "id": "2AydUKz1-enH"
      },
      "source": [
        "X, y = make_blobs(centers=2, cluster_std=0.8)\n",
        "miplot(X,y)"
      ],
      "execution_count": null,
      "outputs": []
    },
    {
      "cell_type": "code",
      "metadata": {
        "id": "intWL_Ij_Ay0"
      },
      "source": [
        "# podemos visualizar el contenido de X solo escribiendo su nombre y ejecutandolo\n",
        "# fijate que son coordenadas con x1 y x2\n",
        "X"
      ],
      "execution_count": null,
      "outputs": []
    },
    {
      "cell_type": "code",
      "metadata": {
        "id": "yMMw0Shg_IIA"
      },
      "source": [
        "# lo mismo con y\n",
        "# fijate que son valores de 0 y 1 (grupo rojo y azul)\n",
        "y"
      ],
      "execution_count": null,
      "outputs": []
    },
    {
      "cell_type": "markdown",
      "metadata": {
        "id": "FNhoEgoA_hiL"
      },
      "source": [
        "Vamos a crear una red neuronal usando __Keras__ para predecir si un dato pertenece al grupo 0 o al 1.\n",
        "\n",
        "Es una red sencilla, una única capa con una única neurona (ya sabemos que eso es suficiente), fíjate en el código y en los comentarios:"
      ]
    },
    {
      "cell_type": "code",
      "metadata": {
        "id": "7pPcKXjGAmko"
      },
      "source": [
        "model = Sequential()  # se define red\n",
        "\n",
        "model.add(Dense(1, activation='sigmoid', input_dim=2))  # creamos la primera capa oculta, esta tiene como entrada dos variables (input_dim=2)\n",
        "                                                        # la función de activacion es una sigmoide (activation='sigmoid')\n",
        "                                                        # tiene una única neurona (1)\n",
        "\n",
        "model.add(Dense(1, activation='sigmoid'))     # creamos la capa de salida, una sigmoide\n",
        "                                              # al ser una clasificacion binaria la capa de salida siempre tiene solo 1 neurona\n",
        "\n",
        "model.summary()  # nos hace un resumen del modelo, interesante el recuento de parametros\n",
        "\n",
        "model.compile(loss='binary_crossentropy', optimizer='adam', metrics=['accuracy'])  # contruye la red que hemos definido\n",
        "      # estos parametros no los toques por ahora, ya los veremos mas adelante\n",
        "      # basicamente estamos definiendo la función de coste y el tipo de optimizador"
      ],
      "execution_count": null,
      "outputs": []
    },
    {
      "cell_type": "markdown",
      "metadata": {
        "id": "X08FCy05CF-0"
      },
      "source": [
        "Pues ya se ha creado la red, más fácil es imposible. Dos cosas que hay que tener en cuenta y que a veces confunden en Keras:\n",
        "\n",
        "1. No se define la capa de entrada, sino que en la primera capa oculta se dice qué datos van a entrar.\n",
        "1. Sí se define la última capa, la de salida\n",
        "\n",
        "Y ahora lo que queda es aplicar nuestra red a los datos que hemos creado antes"
      ]
    },
    {
      "cell_type": "code",
      "metadata": {
        "id": "3U4CiP1KCuHB"
      },
      "source": [
        "model.fit(X, y, epochs=100)  # se ejecuta el proceso de aprendizaje, 100 interaciones (epochs)"
      ],
      "execution_count": null,
      "outputs": []
    },
    {
      "cell_type": "code",
      "metadata": {
        "id": "f-oMDI4JDKQZ"
      },
      "source": [
        "test_loss, test_acc = model.evaluate(X, y)  # se evalua la precision de la red"
      ],
      "execution_count": null,
      "outputs": []
    },
    {
      "cell_type": "markdown",
      "metadata": {
        "id": "YCiF4YrvDPNi"
      },
      "source": [
        "Ya lo veremos más adelante pero en resumen:\n",
        "1. loss: valor de la función de coste. Fíjate cómo va disminuyendo según van sucediéndose las épocas (reducimos el error)\n",
        "1. accuracy: Es la precisión en la clasificación. Va aumentando hasta llegar a 1.0 (el 100%)\n",
        "\n",
        "__Ya está!__\n",
        "\n",
        "Ya hemos creado y calculado nuestra primera red de Deep Learning, consiguiendo un 100% de éxito.\n",
        "\n",
        "Ahora lo que nos quedaría es hacer un plot para ver lo bien que estamos clasificando"
      ]
    },
    {
      "cell_type": "code",
      "metadata": {
        "id": "P9YX54FAEHDw"
      },
      "source": [
        "# guardamos en una variable llamada yp las predicciones hechas por la red con model.predict\n",
        "\n",
        "yp = (model.predict(X) > 0.5).astype(\"int32\")\n",
        "miplot(X,yp.flatten())  # dibujamos esas predicciones"
      ],
      "execution_count": null,
      "outputs": []
    },
    {
      "cell_type": "markdown",
      "metadata": {
        "id": "oJ-wqleAEabZ"
      },
      "source": [
        "Si comparamos el dibujo del inicio y este vemos que son prácticamente idénticos, hemos conseguido reproducir exáctamente los dos grupos de datos."
      ]
    },
    {
      "cell_type": "markdown",
      "metadata": {
        "id": "ekDE0-guGlcg"
      },
      "source": [
        "\n",
        "\n",
        "---\n",
        "Lo anterior está bien para empezar, pero ahora toca pensar y generalizar lo aprendido.\n",
        "\n",
        "Haz los siguientes ejercicios y sube las respuestas a moodle"
      ]
    },
    {
      "cell_type": "markdown",
      "metadata": {
        "id": "e3Sz3JEhG7v3"
      },
      "source": [
        "# Ejercicio 1\n",
        "\n",
        "Con la función __make_circles__ podemos crear clusters de datos circulares como los que teníamos en playground.\n",
        "1. Genera unos datos circulares \n",
        "1. Construye una red que maximice la clasificación"
      ]
    },
    {
      "cell_type": "code",
      "metadata": {
        "id": "opjDN964H1Sp"
      },
      "source": [
        "#para ayudar un poco te pongo el codigo para crear los datos\n",
        "\n",
        "X,y = make_circles(noise=0.2, factor=0.5, random_state=1)\n",
        "miplot(X,y)"
      ],
      "execution_count": null,
      "outputs": []
    },
    {
      "cell_type": "markdown",
      "metadata": {
        "id": "q7eHryxrICbj"
      },
      "source": [
        "# Ejercicio 2\n",
        "\n",
        "Con la función __make_moons__ podemos crear clusters de datos en espiral como los que teníamos en playground.\n",
        "1. Genera unos datos circulares \n",
        "1. Construye una red que maximice la clasificación\n",
        "\n",
        "Recuerda que solo con x1 y x2 no es suficiente, por eso te doy el código para incluir en __X__ los dos senos\n",
        "\n",
        "Recuerda también que con una sola capa no se podía resolver, introduce una nueva capa en el modelo"
      ]
    },
    {
      "cell_type": "code",
      "metadata": {
        "id": "F4dVVAcdIf7b"
      },
      "source": [
        "X,y = make_moons(noise=0.3, random_state=0)\n",
        "miplot(X,y)\n",
        "\n",
        "X = np.concatenate((X,np.sin(X)), axis=1) # no te preocupes por este codigo, simplemente metemos los senos de\n",
        "                                          # x1 y x2 en la matriz X\n",
        "\n",
        "X # puedes comprobar que ahora tiene 4 variables: x1, x2, sin(x1), sin(x2)"
      ],
      "execution_count": null,
      "outputs": []
    },
    {
      "cell_type": "markdown",
      "metadata": {
        "id": "xFn2MW1KJSZE"
      },
      "source": [
        "---\n",
        "\n",
        "# Si te apetece\n",
        "\n",
        "Si te apetece puedes \"_jugar_\" con los parámetros de las funciones de creación de datos para generar datos más distintos y comprobar si tus redes también pueden clasificarlos"
      ]
    }
  ]
}