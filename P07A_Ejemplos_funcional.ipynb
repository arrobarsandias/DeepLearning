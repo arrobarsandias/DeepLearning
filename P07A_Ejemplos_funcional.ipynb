{
  "nbformat": 4,
  "nbformat_minor": 0,
  "metadata": {
    "colab": {
      "provenance": []
    },
    "kernelspec": {
      "name": "python3",
      "display_name": "Python 3"
    },
    "language_info": {
      "name": "python"
    }
  },
  "cells": [
    {
      "cell_type": "code",
      "source": [
        "# Se cargan las funciones de Keras\n",
        "import tensorflow as tf\n",
        "print(tf.__version__)\n",
        "\n",
        "from keras.utils import plot_model\n",
        "from keras.models import Model\n",
        "from keras.layers import Input\n",
        "from keras.layers import Dense\n",
        "from keras.layers import Flatten\n",
        "from keras.layers import concatenate\n",
        "from keras.layers import Lambda"
      ],
      "metadata": {
        "id": "ztAIlMSPIAHl"
      },
      "execution_count": null,
      "outputs": []
    },
    {
      "cell_type": "code",
      "source": [
        "# ------------------------\n",
        "# Una entrada, dos ramas\n",
        "\n",
        "# input layer\n",
        "input = Input(shape=(20))\n",
        "\n",
        "# first feature extractor\n",
        "D_A1 = Dense(64, activation = 'relu')(input)\n",
        "D_A2 = Dense(64, activation = 'relu')(D_A1)\n",
        "\n",
        "# first feature extractor\n",
        "D_B1 = Dense(64, activation = 'relu')(input)\n",
        "D_B2 = Dense(64, activation = 'relu')(D_B1)\n",
        "\n",
        "# merge feature extractors\n",
        "merge = concatenate([D_A2, D_B2])\n",
        "\n",
        "# interpretation layer\n",
        "m1 = Dense(10, activation='relu')(merge)\n",
        "\n",
        "# prediction output\n",
        "output = Dense(1, activation = 'linear')(m1)\n",
        "\n",
        "model = Model(inputs=input, outputs=output)\n",
        "\n",
        "# summarize layers\n",
        "print(model.summary())\n",
        "\n",
        "# plot graph\n",
        "plot_model(model)"
      ],
      "metadata": {
        "id": "lbPZuex4IOw6"
      },
      "execution_count": null,
      "outputs": []
    },
    {
      "cell_type": "code",
      "source": [
        "# ------------------------\n",
        "# Una entrada, dos ramas de distinta longitud\n",
        "\n",
        "# input layer\n",
        "input = Input(shape=(20))\n",
        "\n",
        "# first feature extractor\n",
        "D_A1 = Dense(64, activation = 'relu')(input)\n",
        "D_A2 = Dense(64, activation = 'relu')(D_A1)\n",
        "D_A3 = Dense(64, activation = 'relu')(D_A2)\n",
        "D_A4 = Dense(64, activation = 'relu')(D_A3)\n",
        "D_A5 = Dense(64, activation = 'relu')(D_A4)\n",
        "\n",
        "\n",
        "# first feature extractor\n",
        "D_B1 = Dense(64, activation = 'relu')(input)\n",
        "D_B2 = Dense(64, activation = 'relu')(D_B1)\n",
        "\n",
        "# merge feature extractors\n",
        "merge = concatenate([D_A5, D_B2])\n",
        "\n",
        "# interpretation layer\n",
        "m1 = Dense(10, activation='relu')(merge)\n",
        "\n",
        "# prediction output\n",
        "output = Dense(1, activation = 'linear')(m1)\n",
        "\n",
        "model = Model(inputs=input, outputs=output)\n",
        "\n",
        "# summarize layers\n",
        "print(model.summary())\n",
        "\n",
        "# plot graph\n",
        "plot_model(model)"
      ],
      "metadata": {
        "id": "vWfy342WL1DX"
      },
      "execution_count": null,
      "outputs": []
    },
    {
      "cell_type": "code",
      "source": [
        "# ------------------------\n",
        "# Una entrada que se parte en dos\n",
        "# la mitad del imput va por una rama y la otra mitad por la otra\n",
        "\n",
        "# input layer\n",
        "input = Input(shape=(20))\n",
        "\n",
        "# first feature extractor\n",
        "inputA = Lambda(lambda x: x[:, 0:10])(input)\n",
        "D_A1 = Dense(64, activation = 'relu')(inputA)\n",
        "D_A2 = Dense(64, activation = 'relu')(D_A1)\n",
        "\n",
        "# first feature extractor\n",
        "inputB = Lambda(lambda x: x[:, 10:20])(input)\n",
        "D_B1 = Dense(64, activation = 'relu')(inputB)\n",
        "D_B2 = Dense(64, activation = 'relu')(D_B1)\n",
        "\n",
        "# merge feature extractors\n",
        "merge = concatenate([D_A2, D_B2])\n",
        "\n",
        "# interpretation layer\n",
        "m1 = Dense(10, activation='relu')(merge)\n",
        "\n",
        "# prediction output\n",
        "output = Dense(1, activation = 'linear')(m1)\n",
        "\n",
        "model = Model(inputs=input, outputs=output)\n",
        "\n",
        "# summarize layers\n",
        "print(model.summary())\n",
        "\n",
        "# plot graph\n",
        "plot_model(model)"
      ],
      "metadata": {
        "id": "SYgoCgIBMLOq"
      },
      "execution_count": null,
      "outputs": []
    },
    {
      "cell_type": "code",
      "source": [],
      "metadata": {
        "id": "dj1HIzmTTiQI"
      },
      "execution_count": null,
      "outputs": []
    },
    {
      "cell_type": "code",
      "source": [
        "# ------------------------\n",
        "# Dos entradas, dos ramas\n",
        "\n",
        "# input layer\n",
        "inputA = Input(shape=(10))\n",
        "inputB = Input(shape=(10))\n",
        "\n",
        "# first feature extractor\n",
        "D_A1 = Dense(64, activation = 'relu')(inputA)\n",
        "D_A2 = Dense(64, activation = 'relu')(D_A1)\n",
        "\n",
        "# first feature extractor\n",
        "D_B1 = Dense(64, activation = 'relu')(inputB)\n",
        "D_B2 = Dense(64, activation = 'relu')(D_B1)\n",
        "\n",
        "# merge feature extractors\n",
        "merge = concatenate([D_A2, D_B2])\n",
        "\n",
        "# interpretation layer\n",
        "m1 = Dense(10, activation='relu')(merge)\n",
        "\n",
        "# prediction output\n",
        "output = Dense(1, activation = 'linear')(m1)\n",
        "\n",
        "model = Model(inputs=[inputA, inputB], outputs=output)\n",
        "\n",
        "# summarize layers\n",
        "print(model.summary())\n",
        "\n",
        "# plot graph\n",
        "plot_model(model)"
      ],
      "metadata": {
        "id": "KY5CvIMMTlGq"
      },
      "execution_count": null,
      "outputs": []
    }
  ]
}