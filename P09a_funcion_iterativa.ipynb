{
  "nbformat": 4,
  "nbformat_minor": 0,
  "metadata": {
    "colab": {
      "provenance": [],
      "authorship_tag": "ABX9TyPr+tpiDpFTTd5kDdQtq0YI",
      "include_colab_link": true
    },
    "kernelspec": {
      "name": "python3",
      "display_name": "Python 3"
    },
    "language_info": {
      "name": "python"
    }
  },
  "cells": [
    {
      "cell_type": "markdown",
      "metadata": {
        "id": "view-in-github",
        "colab_type": "text"
      },
      "source": [
        "<a href=\"https://colab.research.google.com/github/mcstllns/DeepLearning/blob/main/P09a_funcion_iterativa.ipynb\" target=\"_parent\"><img src=\"https://colab.research.google.com/assets/colab-badge.svg\" alt=\"Open In Colab\"/></a>"
      ]
    },
    {
      "cell_type": "code",
      "source": [
        "def suma(n):\n",
        "  return n+suma(n-1)"
      ],
      "metadata": {
        "id": "TPINbPGGRH5a"
      },
      "execution_count": null,
      "outputs": []
    },
    {
      "cell_type": "code",
      "source": [
        "suma(3)"
      ],
      "metadata": {
        "id": "BgkJIEO9RcjQ"
      },
      "execution_count": null,
      "outputs": []
    },
    {
      "cell_type": "code",
      "source": [
        "def suma(n):\n",
        "  if(n <= 1):\n",
        "    return n\n",
        "  else:\n",
        "    return n+suma(n-1)"
      ],
      "metadata": {
        "id": "0Fvk0101Rgui"
      },
      "execution_count": null,
      "outputs": []
    },
    {
      "cell_type": "code",
      "source": [
        "suma(5)"
      ],
      "metadata": {
        "id": "dafnjVNvR1A7"
      },
      "execution_count": null,
      "outputs": []
    },
    {
      "cell_type": "code",
      "execution_count": null,
      "metadata": {
        "id": "jc7EOMpbPyfi"
      },
      "outputs": [],
      "source": [
        "def factorial(n): #Declaro una función llamada factorial\n",
        "  if (n==1) or (n==0): #Controlo los dos valores que siempre dan uno en un factorial, el 1 y el 0\n",
        "    return 1 #Si esto se cumple siempre devuelve el valor 1\n",
        "  else: #Si es cualquier otro valor , retorno la función recursiva\n",
        "    return n*factorial(n-1) #Función recursiva"
      ]
    },
    {
      "cell_type": "code",
      "source": [
        "factorial(5)"
      ],
      "metadata": {
        "id": "NJAEqosEP0A9"
      },
      "execution_count": null,
      "outputs": []
    },
    {
      "cell_type": "code",
      "source": [
        "def fib(x, y, conta=0, stop=10):\n",
        "  if conta > stop:\n",
        "    return \"terminado\"\n",
        "  z = x+y\n",
        "  print(z)\n",
        "  fib(y,z, conta+1, stop)"
      ],
      "metadata": {
        "id": "JhVD4_eXSYW6"
      },
      "execution_count": null,
      "outputs": []
    },
    {
      "cell_type": "code",
      "source": [
        "fib(0,1)"
      ],
      "metadata": {
        "id": "AQMzlXFqS33w"
      },
      "execution_count": null,
      "outputs": []
    }
  ]
}